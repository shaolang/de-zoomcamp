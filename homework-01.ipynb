{
 "cells": [
  {
   "cell_type": "markdown",
   "id": "fef7dbd7",
   "metadata": {},
   "source": [
    "# Week 1 Homework\n",
    "\n",
    "In this homework we'll prepare the environment and practice with terraform and SQL\n",
    "\n",
    "## Question 1. Google Cloud SDK\n",
    "\n",
    "Install Google Cloud SDK. What's the version you have?\n",
    "\n",
    "To get the version, run gcloud --version"
   ]
  },
  {
   "cell_type": "code",
   "execution_count": 1,
   "id": "471b4116",
   "metadata": {},
   "outputs": [
    {
     "name": "stdout",
     "output_type": "stream",
     "text": [
      "Google Cloud SDK 369.0.0\r\n",
      "bq 2.0.72\r\n",
      "core 2022.01.14\r\n",
      "gsutil 5.6\r\n"
     ]
    }
   ],
   "source": [
    "!gcloud --version"
   ]
  },
  {
   "cell_type": "markdown",
   "id": "645f7be2",
   "metadata": {},
   "source": [
    "## Question 2. Terraform\n",
    "\n",
    "Now install terraform and go to the terraform directory (week_1_basics_n_setup/1_terraform_gcp/terraform)\n",
    "\n",
    "After that, run\n",
    "\n",
    "    terraform init\n",
    "    terraform plan\n",
    "    terraform apply\n",
    "\n",
    "Apply the plan and copy the output (after running apply) to the form.\n",
    "\n",
    "Answer:\n",
    "```\n",
    "google_bigquery_dataset.dataset: Creating...\n",
    "google_storage_bucket.data-lake-bucket: Creating...\n",
    "google_bigquery_dataset.dataset: Creation complete after 2s [id=projects/model-overview-339109/datasets/trips_data_all]\n",
    "google_storage_bucket.data-lake-bucket: Creation complete after 3s [id=dtc_data_lake_model-overview-339109]\n",
    "\n",
    "Apply complete! Resources: 2 added, 0 changed, 0 destroyed.\n",
    "```"
   ]
  }
 ],
 "metadata": {
  "kernelspec": {
   "display_name": "Python 3 (ipykernel)",
   "language": "python",
   "name": "python3"
  },
  "language_info": {
   "codemirror_mode": {
    "name": "ipython",
    "version": 3
   },
   "file_extension": ".py",
   "mimetype": "text/x-python",
   "name": "python",
   "nbconvert_exporter": "python",
   "pygments_lexer": "ipython3",
   "version": "3.9.10"
  }
 },
 "nbformat": 4,
 "nbformat_minor": 5
}
