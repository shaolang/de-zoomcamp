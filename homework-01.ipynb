{
 "cells": [
  {
   "cell_type": "markdown",
   "id": "01ae5c5c",
   "metadata": {},
   "source": [
    "# Week 1 Homework\n",
    "\n",
    "In this homework we'll prepare the environment and practice with terraform and SQL\n",
    "\n",
    "## Question 1. Google Cloud SDK\n",
    "\n",
    "Install Google Cloud SDK. What's the version you have?\n",
    "\n",
    "To get the version, run gcloud --version"
   ]
  },
  {
   "cell_type": "code",
   "execution_count": 1,
   "id": "59107eed",
   "metadata": {},
   "outputs": [
    {
     "name": "stdout",
     "output_type": "stream",
     "text": [
      "Google Cloud SDK 369.0.0\r\n",
      "bq 2.0.72\r\n",
      "core 2022.01.14\r\n",
      "gsutil 5.6\r\n"
     ]
    }
   ],
   "source": [
    "!gcloud --version"
   ]
  }
 ],
 "metadata": {
  "kernelspec": {
   "display_name": "Python 3 (ipykernel)",
   "language": "python",
   "name": "python3"
  },
  "language_info": {
   "codemirror_mode": {
    "name": "ipython",
    "version": 3
   },
   "file_extension": ".py",
   "mimetype": "text/x-python",
   "name": "python",
   "nbconvert_exporter": "python",
   "pygments_lexer": "ipython3",
   "version": "3.9.10"
  }
 },
 "nbformat": 4,
 "nbformat_minor": 5
}
